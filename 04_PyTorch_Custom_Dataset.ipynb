{
  "nbformat": 4,
  "nbformat_minor": 0,
  "metadata": {
    "colab": {
      "provenance": []
    },
    "kernelspec": {
      "name": "python3",
      "display_name": "Python 3"
    },
    "language_info": {
      "name": "python"
    }
  },
  "cells": [
    {
      "cell_type": "code",
      "execution_count": 2,
      "metadata": {
        "id": "XO9c3mWTUxJQ"
      },
      "outputs": [],
      "source": [
        "import torch\n",
        "from torch import nn\n",
        "device = 'cuda' if torch.cuda.is_available() else 'cpu'\n",
        "import requests\n",
        "import zipfile\n",
        "from pathlib import Path\n",
        "\n",
        "data_path = Path('data/')\n",
        "image_path = data_path / 'pizza_steak_sushi'\n",
        "\n",
        "image_path.mkdir(parents=True,exist_ok=True)\n",
        "with open(data_path / 'pizza_steak_sushi.zip','wb') as f:\n",
        "  request = requests.get('https://github.com/mrdbourke/pytorch-deep-learning/raw/refs/heads/main/data/pizza_steak_sushi_20_percent.zip')\n",
        "  f.write(request.content)\n",
        "with zipfile.ZipFile(data_path / 'pizza_steak_sushi.zip','r') as zip_ref:\n",
        "  zip_ref.extractall(image_path)\n",
        "\n",
        "train_dir = image_path / 'train'\n",
        "test_dir = image_path / 'test'"
      ]
    },
    {
      "cell_type": "code",
      "source": [
        "import os\n",
        "def class_dir(dir_name):\n",
        "  class_names = sorted(item.name for item in os.scandir(dir_name) if item.is_dir())\n",
        "  class_dir = {name:i for i,name in enumerate(class_names)}\n",
        "\n",
        "  return class_names,class_dir\n",
        "\n",
        "class_dir(train_dir)"
      ],
      "metadata": {
        "colab": {
          "base_uri": "https://localhost:8080/"
        },
        "id": "5VSW4Uavc3bL",
        "outputId": "3be84c1b-43a7-408e-e99c-2cd47991fed5"
      },
      "execution_count": 5,
      "outputs": [
        {
          "output_type": "execute_result",
          "data": {
            "text/plain": [
              "(['pizza', 'steak', 'sushi'], {'pizza': 0, 'steak': 1, 'sushi': 2})"
            ]
          },
          "metadata": {},
          "execution_count": 5
        }
      ]
    },
    {
      "cell_type": "code",
      "source": [
        "from torchvision import datasets,transforms\n",
        "import PIL\n",
        "from PIL import Image\n",
        "from torch.utils.data import Dataset # Import Dataset\n",
        "\n",
        "data_transform = transforms.Compose([\n",
        "    transforms.Resize((64,64)),\n",
        "    transforms.RandomHorizontalFlip(p=0.2),\n",
        "    transforms.ToTensor()\n",
        "\n",
        "])\n",
        "\n",
        "\n",
        "class Customdataset(Dataset): # Inherit from Dataset\n",
        "  def __init__(self,transform,data_dir):\n",
        "    self.list_dir = list(Path(data_dir).glob('*/*.jpg')) # Use data_dir here\n",
        "    self.transform = transform\n",
        "    self.classes,self.class_to_dir = class_dir(data_dir)\n",
        "\n",
        "  def __len__(self):\n",
        "    return len(self.list_dir) # Corrected typo\n",
        "\n",
        "  def __getitem__(self,idx):\n",
        "    img_path = self.list_dir[idx]\n",
        "    img = Image.open(img_path)\n",
        "    class_name = img_path.parent.name\n",
        "    class_idx = self.class_to_dir[class_name]\n",
        "\n",
        "    return self.transform(img),class_idx"
      ],
      "metadata": {
        "id": "1NNGkqZbaAG9"
      },
      "execution_count": 9,
      "outputs": []
    },
    {
      "cell_type": "code",
      "source": [
        "train_dataset = Customdataset(data_transform,train_dir)"
      ],
      "metadata": {
        "id": "DbWPoCrDeeTG"
      },
      "execution_count": 10,
      "outputs": []
    },
    {
      "cell_type": "code",
      "source": [
        "import matplotlib.pyplot as plt\n",
        "plt.imshow(train_dataset.__getitem__(0)[0].permute(1,2,0))"
      ],
      "metadata": {
        "colab": {
          "base_uri": "https://localhost:8080/",
          "height": 449
        },
        "id": "rNtGRCIRejhS",
        "outputId": "8e090cf6-d4dd-4d78-df87-ee47126d0f7c"
      },
      "execution_count": 16,
      "outputs": [
        {
          "output_type": "execute_result",
          "data": {
            "text/plain": [
              "<matplotlib.image.AxesImage at 0x7ae37b91b390>"
            ]
          },
          "metadata": {},
          "execution_count": 16
        },
        {
          "output_type": "display_data",
          "data": {
            "text/plain": [
              "<Figure size 640x480 with 1 Axes>"
            ],
            "image/png": "[encoded data removed]"
          },
          "metadata": {}
        }
      ]
    },
    {
      "cell_type": "code",
      "source": [
        "from torch.utils.data import DataLoader\n",
        "\n",
        "train_dataloader = DataLoader(train_dataset,batch_size=32,shuffle=True)"
      ],
      "metadata": {
        "id": "tGUeOf41e6Dq"
      },
      "execution_count": 17,
      "outputs": []
    },
    {
      "cell_type": "code",
      "source": [
        "train_dataloader"
      ],
      "metadata": {
        "colab": {
          "base_uri": "https://localhost:8080/"
        },
        "id": "tjGsUeMjfPIl",
        "outputId": "eda67ed3-ca6f-4f61-c8b3-08df48a61ab9"
      },
      "execution_count": 18,
      "outputs": [
        {
          "output_type": "execute_result",
          "data": {
            "text/plain": [
              "<torch.utils.data.dataloader.DataLoader at 0x7ae37960f0d0>"
            ]
          },
          "metadata": {},
          "execution_count": 18
        }
      ]
    }
  ]
}