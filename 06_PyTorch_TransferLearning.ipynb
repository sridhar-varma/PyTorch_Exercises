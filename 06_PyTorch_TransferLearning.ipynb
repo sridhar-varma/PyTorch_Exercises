{
  "nbformat": 4,
  "nbformat_minor": 0,
  "metadata": {
    "colab": {
      "provenance": [],
      "gpuType": "T4"
    },
    "kernelspec": {
      "name": "python3",
      "display_name": "Python 3"
    },
    "language_info": {
      "name": "python"
    },
    "accelerator": "GPU",
    "widgets": {
      "application/vnd.jupyter.widget-state+json": {
        "2004958aaa5445cca089a977df82d7a5": {
          "model_module": "@jupyter-widgets/controls",
          "model_name": "HBoxModel",
          "model_module_version": "1.5.0",
          "state": {
            "_dom_classes": [],
            "_model_module": "@jupyter-widgets/controls",
            "_model_module_version": "1.5.0",
            "_model_name": "HBoxModel",
            "_view_count": null,
            "_view_module": "@jupyter-widgets/controls",
            "_view_module_version": "1.5.0",
            "_view_name": "HBoxView",
            "box_style": "",
            "children": [
              "IPY_MODEL_43b0fc915e3a4e56916d8bb3599ecbec",
              "IPY_MODEL_6da3c00b5cf14123bc8352c95d387f08",
              "IPY_MODEL_9a75a413b42243db8e29808eefb13446"
            ],
            "layout": "IPY_MODEL_71919e7c5b984fe58dbec2d04ac76442"
          }
        },
        "43b0fc915e3a4e56916d8bb3599ecbec": {
          "model_module": "@jupyter-widgets/controls",
          "model_name": "HTMLModel",
          "model_module_version": "1.5.0",
          "state": {
            "_dom_classes": [],
            "_model_module": "@jupyter-widgets/controls",
            "_model_module_version": "1.5.0",
            "_model_name": "HTMLModel",
            "_view_count": null,
            "_view_module": "@jupyter-widgets/controls",
            "_view_module_version": "1.5.0",
            "_view_name": "HTMLView",
            "description": "",
            "description_tooltip": null,
            "layout": "IPY_MODEL_788bef6162634970a5f9612e7e9586f9",
            "placeholder": "​",
            "style": "IPY_MODEL_836220b1d2de4be69f6c2c80bf545b74",
            "value": "100%"
          }
        },
        "6da3c00b5cf14123bc8352c95d387f08": {
          "model_module": "@jupyter-widgets/controls",
          "model_name": "FloatProgressModel",
          "model_module_version": "1.5.0",
          "state": {
            "_dom_classes": [],
            "_model_module": "@jupyter-widgets/controls",
            "_model_module_version": "1.5.0",
            "_model_name": "FloatProgressModel",
            "_view_count": null,
            "_view_module": "@jupyter-widgets/controls",
            "_view_module_version": "1.5.0",
            "_view_name": "ProgressView",
            "bar_style": "success",
            "description": "",
            "description_tooltip": null,
            "layout": "IPY_MODEL_e2863fc5015a4ead95c544f58e51c665",
            "max": 5,
            "min": 0,
            "orientation": "horizontal",
            "style": "IPY_MODEL_3be799ff378c4ed58395abc941803215",
            "value": 5
          }
        },
        "9a75a413b42243db8e29808eefb13446": {
          "model_module": "@jupyter-widgets/controls",
          "model_name": "HTMLModel",
          "model_module_version": "1.5.0",
          "state": {
            "_dom_classes": [],
            "_model_module": "@jupyter-widgets/controls",
            "_model_module_version": "1.5.0",
            "_model_name": "HTMLModel",
            "_view_count": null,
            "_view_module": "@jupyter-widgets/controls",
            "_view_module_version": "1.5.0",
            "_view_name": "HTMLView",
            "description": "",
            "description_tooltip": null,
            "layout": "IPY_MODEL_cc627920099349279860b97ed1f35503",
            "placeholder": "​",
            "style": "IPY_MODEL_862b8c8408244f26b61e30f91e5757dd",
            "value": " 5/5 [00:16&lt;00:00,  3.24s/it]"
          }
        },
        "71919e7c5b984fe58dbec2d04ac76442": {
          "model_module": "@jupyter-widgets/base",
          "model_name": "LayoutModel",
          "model_module_version": "1.2.0",
          "state": {
            "_model_module": "@jupyter-widgets/base",
            "_model_module_version": "1.2.0",
            "_model_name": "LayoutModel",
            "_view_count": null,
            "_view_module": "@jupyter-widgets/base",
            "_view_module_version": "1.2.0",
            "_view_name": "LayoutView",
            "align_content": null,
            "align_items": null,
            "align_self": null,
            "border": null,
            "bottom": null,
            "display": null,
            "flex": null,
            "flex_flow": null,
            "grid_area": null,
            "grid_auto_columns": null,
            "grid_auto_flow": null,
            "grid_auto_rows": null,
            "grid_column": null,
            "grid_gap": null,
            "grid_row": null,
            "grid_template_areas": null,
            "grid_template_columns": null,
            "grid_template_rows": null,
            "height": null,
            "justify_content": null,
            "justify_items": null,
            "left": null,
            "margin": null,
            "max_height": null,
            "max_width": null,
            "min_height": null,
            "min_width": null,
            "object_fit": null,
            "object_position": null,
            "order": null,
            "overflow": null,
            "overflow_x": null,
            "overflow_y": null,
            "padding": null,
            "right": null,
            "top": null,
            "visibility": null,
            "width": null
          }
        },
        "788bef6162634970a5f9612e7e9586f9": {
          "model_module": "@jupyter-widgets/base",
          "model_name": "LayoutModel",
          "model_module_version": "1.2.0",
          "state": {
            "_model_module": "@jupyter-widgets/base",
            "_model_module_version": "1.2.0",
            "_model_name": "LayoutModel",
            "_view_count": null,
            "_view_module": "@jupyter-widgets/base",
            "_view_module_version": "1.2.0",
            "_view_name": "LayoutView",
            "align_content": null,
            "align_items": null,
            "align_self": null,
            "border": null,
            "bottom": null,
            "display": null,
            "flex": null,
            "flex_flow": null,
            "grid_area": null,
            "grid_auto_columns": null,
            "grid_auto_flow": null,
            "grid_auto_rows": null,
            "grid_column": null,
            "grid_gap": null,
            "grid_row": null,
            "grid_template_areas": null,
            "grid_template_columns": null,
            "grid_template_rows": null,
            "height": null,
            "justify_content": null,
            "justify_items": null,
            "left": null,
            "margin": null,
            "max_height": null,
            "max_width": null,
            "min_height": null,
            "min_width": null,
            "object_fit": null,
            "object_position": null,
            "order": null,
            "overflow": null,
            "overflow_x": null,
            "overflow_y": null,
            "padding": null,
            "right": null,
            "top": null,
            "visibility": null,
            "width": null
          }
        },
        "836220b1d2de4be69f6c2c80bf545b74": {
          "model_module": "@jupyter-widgets/controls",
          "model_name": "DescriptionStyleModel",
          "model_module_version": "1.5.0",
          "state": {
            "_model_module": "@jupyter-widgets/controls",
            "_model_module_version": "1.5.0",
            "_model_name": "DescriptionStyleModel",
            "_view_count": null,
            "_view_module": "@jupyter-widgets/base",
            "_view_module_version": "1.2.0",
            "_view_name": "StyleView",
            "description_width": ""
          }
        },
        "e2863fc5015a4ead95c544f58e51c665": {
          "model_module": "@jupyter-widgets/base",
          "model_name": "LayoutModel",
          "model_module_version": "1.2.0",
          "state": {
            "_model_module": "@jupyter-widgets/base",
            "_model_module_version": "1.2.0",
            "_model_name": "LayoutModel",
            "_view_count": null,
            "_view_module": "@jupyter-widgets/base",
            "_view_module_version": "1.2.0",
            "_view_name": "LayoutView",
            "align_content": null,
            "align_items": null,
            "align_self": null,
            "border": null,
            "bottom": null,
            "display": null,
            "flex": null,
            "flex_flow": null,
            "grid_area": null,
            "grid_auto_columns": null,
            "grid_auto_flow": null,
            "grid_auto_rows": null,
            "grid_column": null,
            "grid_gap": null,
            "grid_row": null,
            "grid_template_areas": null,
            "grid_template_columns": null,
            "grid_template_rows": null,
            "height": null,
            "justify_content": null,
            "justify_items": null,
            "left": null,
            "margin": null,
            "max_height": null,
            "max_width": null,
            "min_height": null,
            "min_width": null,
            "object_fit": null,
            "object_position": null,
            "order": null,
            "overflow": null,
            "overflow_x": null,
            "overflow_y": null,
            "padding": null,
            "right": null,
            "top": null,
            "visibility": null,
            "width": null
          }
        },
        "3be799ff378c4ed58395abc941803215": {
          "model_module": "@jupyter-widgets/controls",
          "model_name": "ProgressStyleModel",
          "model_module_version": "1.5.0",
          "state": {
            "_model_module": "@jupyter-widgets/controls",
            "_model_module_version": "1.5.0",
            "_model_name": "ProgressStyleModel",
            "_view_count": null,
            "_view_module": "@jupyter-widgets/base",
            "_view_module_version": "1.2.0",
            "_view_name": "StyleView",
            "bar_color": null,
            "description_width": ""
          }
        },
        "cc627920099349279860b97ed1f35503": {
          "model_module": "@jupyter-widgets/base",
          "model_name": "LayoutModel",
          "model_module_version": "1.2.0",
          "state": {
            "_model_module": "@jupyter-widgets/base",
            "_model_module_version": "1.2.0",
            "_model_name": "LayoutModel",
            "_view_count": null,
            "_view_module": "@jupyter-widgets/base",
            "_view_module_version": "1.2.0",
            "_view_name": "LayoutView",
            "align_content": null,
            "align_items": null,
            "align_self": null,
            "border": null,
            "bottom": null,
            "display": null,
            "flex": null,
            "flex_flow": null,
            "grid_area": null,
            "grid_auto_columns": null,
            "grid_auto_flow": null,
            "grid_auto_rows": null,
            "grid_column": null,
            "grid_gap": null,
            "grid_row": null,
            "grid_template_areas": null,
            "grid_template_columns": null,
            "grid_template_rows": null,
            "height": null,
            "justify_content": null,
            "justify_items": null,
            "left": null,
            "margin": null,
            "max_height": null,
            "max_width": null,
            "min_height": null,
            "min_width": null,
            "object_fit": null,
            "object_position": null,
            "order": null,
            "overflow": null,
            "overflow_x": null,
            "overflow_y": null,
            "padding": null,
            "right": null,
            "top": null,
            "visibility": null,
            "width": null
          }
        },
        "862b8c8408244f26b61e30f91e5757dd": {
          "model_module": "@jupyter-widgets/controls",
          "model_name": "DescriptionStyleModel",
          "model_module_version": "1.5.0",
          "state": {
            "_model_module": "@jupyter-widgets/controls",
            "_model_module_version": "1.5.0",
            "_model_name": "DescriptionStyleModel",
            "_view_count": null,
            "_view_module": "@jupyter-widgets/base",
            "_view_module_version": "1.2.0",
            "_view_name": "StyleView",
            "description_width": ""
          }
        }
      }
    }
  },
  "cells": [
    {
      "cell_type": "code",
      "execution_count": 1,
      "metadata": {
        "colab": {
          "base_uri": "https://localhost:8080/"
        },
        "id": "aIholcw3JKzh",
        "outputId": "01f47a1e-f517-4172-a63c-b583c678e059"
      },
      "outputs": [
        {
          "output_type": "stream",
          "name": "stdout",
          "text": [
            "Collecting torchinfo\n",
            "  Downloading torchinfo-1.8.0-py3-none-any.whl.metadata (21 kB)\n",
            "Downloading torchinfo-1.8.0-py3-none-any.whl (23 kB)\n",
            "Installing collected packages: torchinfo\n",
            "Successfully installed torchinfo-1.8.0\n",
            "Cloning into 'pytorch-deep-learning'...\n",
            "remote: Enumerating objects: 4393, done.\u001b[K\n",
            "remote: Total 4393 (delta 0), reused 0 (delta 0), pack-reused 4393 (from 1)\u001b[K\n",
            "Receiving objects: 100% (4393/4393), 764.14 MiB | 15.97 MiB/s, done.\n",
            "Resolving deltas: 100% (2656/2656), done.\n",
            "Updating files: 100% (248/248), done.\n",
            ",  sample_data\n"
          ]
        }
      ],
      "source": [
        "import torch\n",
        "import torchvision\n",
        "from torch import nn\n",
        "from torchvision import transforms\n",
        "import matplotlib.pyplot as plt\n",
        "import zipfile\n",
        "import requests\n",
        "!pip install torchinfo\n",
        "from torchinfo import summary\n",
        "!git clone 'https://github.com/mrdbourke/pytorch-deep-learning'\n",
        "dir_path = 'functions'\n",
        "!mkdir {dir_path}\n",
        "!mv pytorch-deep-learning/going_modular functions\n",
        "!rm -rf pytorch-deep-learning\n",
        "!ls"
      ]
    },
    {
      "cell_type": "code",
      "source": [
        "from functions.going_modular import data_setup,engine"
      ],
      "metadata": {
        "id": "rr2HpWoVKNpl"
      },
      "execution_count": 4,
      "outputs": []
    },
    {
      "cell_type": "code",
      "source": [
        "device = 'cuda' if torch.cuda.is_available() else 'cpu'\n",
        "device"
      ],
      "metadata": {
        "colab": {
          "base_uri": "https://localhost:8080/",
          "height": 35
        },
        "id": "bClHJ1-OK4nY",
        "outputId": "0decc1a7-b3a2-4e3c-e858-7c574f7318ff"
      },
      "execution_count": 5,
      "outputs": [
        {
          "output_type": "execute_result",
          "data": {
            "text/plain": [
              "'cuda'"
            ],
            "application/vnd.google.colaboratory.intrinsic+json": {
              "type": "string"
            }
          },
          "metadata": {},
          "execution_count": 5
        }
      ]
    },
    {
      "cell_type": "code",
      "source": [
        "import os\n",
        "from pathlib import Path"
      ],
      "metadata": {
        "id": "0Zi-lDH6K_NC"
      },
      "execution_count": 7,
      "outputs": []
    },
    {
      "cell_type": "code",
      "source": [
        "data_path = Path('data/')\n",
        "\n",
        "data_path.mkdir(parents=True,exist_ok=True)\n",
        "request = requests.get('https://github.com/mrdbourke/pytorch-deep-learning/raw/main/data/pizza_steak_sushi_20_percent.zip')\n",
        "\n",
        "with open('pizza_steak_sushi_20_percent.zip','wb') as f:\n",
        "  f.write(request.content)\n",
        "\n",
        "with zipfile.ZipFile('pizza_steak_sushi_20_percent.zip','r') as f:\n",
        "  f.extractall(data_path)"
      ],
      "metadata": {
        "id": "P_8xSGxmLECF"
      },
      "execution_count": 9,
      "outputs": []
    },
    {
      "cell_type": "code",
      "source": [
        "train_dir = data_path / 'train'\n",
        "test_dir = data_path / 'test'"
      ],
      "metadata": {
        "id": "Ej8QWJ8oMEEy"
      },
      "execution_count": 10,
      "outputs": []
    },
    {
      "cell_type": "code",
      "source": [
        "manual_transform = transforms.Compose([\n",
        "    transforms.Resize((224,224)),\n",
        "    transforms.ToTensor(),\n",
        "    transforms.Normalize(mean=[0.485,0.456,0.406],std=[0.229,0.224,0.225])\n",
        "])"
      ],
      "metadata": {
        "id": "EMb6Nv40MMRo"
      },
      "execution_count": 12,
      "outputs": []
    },
    {
      "cell_type": "code",
      "source": [
        "train_dataloader,test_dataloader,class_names = data_setup.create_dataloaders(train_dir,test_dir,manual_transform,batch_size=32)"
      ],
      "metadata": {
        "id": "4DOKlUqlMtgs"
      },
      "execution_count": 14,
      "outputs": []
    },
    {
      "cell_type": "code",
      "source": [
        "weights = torchvision.models.EfficientNet_B0_Weights.DEFAULT\n",
        "#tranform = weights.transforms()"
      ],
      "metadata": {
        "id": "KiRVti2rM8e_"
      },
      "execution_count": 16,
      "outputs": []
    },
    {
      "cell_type": "code",
      "source": [
        "model = torchvision.models.efficientnet_b0(weights=weights).to(device)"
      ],
      "metadata": {
        "colab": {
          "base_uri": "https://localhost:8080/"
        },
        "id": "BpRI036PNKxO",
        "outputId": "437a83dc-2f19-4a2b-a96e-2b8b079e0bb3"
      },
      "execution_count": 17,
      "outputs": [
        {
          "output_type": "stream",
          "name": "stderr",
          "text": [
            "Downloading: \"https://download.pytorch.org/models/efficientnet_b0_rwightman-7f5810bc.pth\" to /root/.cache/torch/hub/checkpoints/efficientnet_b0_rwightman-7f5810bc.pth\n",
            "100%|██████████| 20.5M/20.5M [00:00<00:00, 196MB/s]\n"
          ]
        }
      ]
    },
    {
      "cell_type": "code",
      "source": [
        "summary(model=model,input_size=(32,3,224,224),col_names=['input_size','output_size','num_params','trainable'],row_settings=['var_names'])"
      ],
      "metadata": {
        "colab": {
          "base_uri": "https://localhost:8080/"
        },
        "id": "KS88bV_xNU-r",
        "outputId": "694c9a70-5209-4453-ea09-cd2cb1029746"
      },
      "execution_count": 20,
      "outputs": [
        {
          "output_type": "execute_result",
          "data": {
            "text/plain": [
              "================================================================================================================================================================\n",
              "Layer (type (var_name))                                      Input Shape               Output Shape              Param #                   Trainable\n",
              "================================================================================================================================================================\n",
              "EfficientNet (EfficientNet)                                  [32, 3, 224, 224]         [32, 1000]                --                        True\n",
              "├─Sequential (features)                                      [32, 3, 224, 224]         [32, 1280, 7, 7]          --                        True\n",
              "│    └─Conv2dNormActivation (0)                              [32, 3, 224, 224]         [32, 32, 112, 112]        --                        True\n",
              "│    │    └─Conv2d (0)                                       [32, 3, 224, 224]         [32, 32, 112, 112]        864                       True\n",
              "│    │    └─BatchNorm2d (1)                                  [32, 32, 112, 112]        [32, 32, 112, 112]        64                        True\n",
              "│    │    └─SiLU (2)                                         [32, 32, 112, 112]        [32, 32, 112, 112]        --                        --\n",
              "│    └─Sequential (1)                                        [32, 32, 112, 112]        [32, 16, 112, 112]        --                        True\n",
              "│    │    └─MBConv (0)                                       [32, 32, 112, 112]        [32, 16, 112, 112]        1,448                     True\n",
              "│    └─Sequential (2)                                        [32, 16, 112, 112]        [32, 24, 56, 56]          --                        True\n",
              "│    │    └─MBConv (0)                                       [32, 16, 112, 112]        [32, 24, 56, 56]          6,004                     True\n",
              "│    │    └─MBConv (1)                                       [32, 24, 56, 56]          [32, 24, 56, 56]          10,710                    True\n",
              "│    └─Sequential (3)                                        [32, 24, 56, 56]          [32, 40, 28, 28]          --                        True\n",
              "│    │    └─MBConv (0)                                       [32, 24, 56, 56]          [32, 40, 28, 28]          15,350                    True\n",
              "│    │    └─MBConv (1)                                       [32, 40, 28, 28]          [32, 40, 28, 28]          31,290                    True\n",
              "│    └─Sequential (4)                                        [32, 40, 28, 28]          [32, 80, 14, 14]          --                        True\n",
              "│    │    └─MBConv (0)                                       [32, 40, 28, 28]          [32, 80, 14, 14]          37,130                    True\n",
              "│    │    └─MBConv (1)                                       [32, 80, 14, 14]          [32, 80, 14, 14]          102,900                   True\n",
              "│    │    └─MBConv (2)                                       [32, 80, 14, 14]          [32, 80, 14, 14]          102,900                   True\n",
              "│    └─Sequential (5)                                        [32, 80, 14, 14]          [32, 112, 14, 14]         --                        True\n",
              "│    │    └─MBConv (0)                                       [32, 80, 14, 14]          [32, 112, 14, 14]         126,004                   True\n",
              "│    │    └─MBConv (1)                                       [32, 112, 14, 14]         [32, 112, 14, 14]         208,572                   True\n",
              "│    │    └─MBConv (2)                                       [32, 112, 14, 14]         [32, 112, 14, 14]         208,572                   True\n",
              "│    └─Sequential (6)                                        [32, 112, 14, 14]         [32, 192, 7, 7]           --                        True\n",
              "│    │    └─MBConv (0)                                       [32, 112, 14, 14]         [32, 192, 7, 7]           262,492                   True\n",
              "│    │    └─MBConv (1)                                       [32, 192, 7, 7]           [32, 192, 7, 7]           587,952                   True\n",
              "│    │    └─MBConv (2)                                       [32, 192, 7, 7]           [32, 192, 7, 7]           587,952                   True\n",
              "│    │    └─MBConv (3)                                       [32, 192, 7, 7]           [32, 192, 7, 7]           587,952                   True\n",
              "│    └─Sequential (7)                                        [32, 192, 7, 7]           [32, 320, 7, 7]           --                        True\n",
              "│    │    └─MBConv (0)                                       [32, 192, 7, 7]           [32, 320, 7, 7]           717,232                   True\n",
              "│    └─Conv2dNormActivation (8)                              [32, 320, 7, 7]           [32, 1280, 7, 7]          --                        True\n",
              "│    │    └─Conv2d (0)                                       [32, 320, 7, 7]           [32, 1280, 7, 7]          409,600                   True\n",
              "│    │    └─BatchNorm2d (1)                                  [32, 1280, 7, 7]          [32, 1280, 7, 7]          2,560                     True\n",
              "│    │    └─SiLU (2)                                         [32, 1280, 7, 7]          [32, 1280, 7, 7]          --                        --\n",
              "├─AdaptiveAvgPool2d (avgpool)                                [32, 1280, 7, 7]          [32, 1280, 1, 1]          --                        --\n",
              "├─Sequential (classifier)                                    [32, 1280]                [32, 1000]                --                        True\n",
              "│    └─Dropout (0)                                           [32, 1280]                [32, 1280]                --                        --\n",
              "│    └─Linear (1)                                            [32, 1280]                [32, 1000]                1,281,000                 True\n",
              "================================================================================================================================================================\n",
              "Total params: 5,288,548\n",
              "Trainable params: 5,288,548\n",
              "Non-trainable params: 0\n",
              "Total mult-adds (Units.GIGABYTES): 12.35\n",
              "================================================================================================================================================================\n",
              "Input size (MB): 19.27\n",
              "Forward/backward pass size (MB): 3452.35\n",
              "Params size (MB): 21.15\n",
              "Estimated Total Size (MB): 3492.77\n",
              "================================================================================================================================================================"
            ]
          },
          "metadata": {},
          "execution_count": 20
        }
      ]
    },
    {
      "cell_type": "code",
      "source": [
        "for param in model.features.parameters():\n",
        "  param.requires_grad = False"
      ],
      "metadata": {
        "id": "JpxNBLF2Nwf6"
      },
      "execution_count": 21,
      "outputs": []
    },
    {
      "cell_type": "code",
      "source": [
        "model.classifier = nn.Sequential(\n",
        "    nn.Dropout(p=0.2,inplace=True),\n",
        "    nn.Linear(in_features=1280,out_features=3,bias=True)\n",
        ").to(device)"
      ],
      "metadata": {
        "id": "AO55r4LwODga"
      },
      "execution_count": 23,
      "outputs": []
    },
    {
      "cell_type": "code",
      "source": [
        "loss_fn = nn.CrossEntropyLoss()\n",
        "optimizer= torch.optim.Adam(params=model.parameters(),lr=0.001)\n",
        "\n",
        "results = engine.train(model=model,train_dataloader=train_dataloader,test_dataloader=test_dataloader,optimizer=optimizer,loss_fn=loss_fn,epochs=5,device=device)"
      ],
      "metadata": {
        "colab": {
          "base_uri": "https://localhost:8080/",
          "height": 136,
          "referenced_widgets": [
            "2004958aaa5445cca089a977df82d7a5",
            "43b0fc915e3a4e56916d8bb3599ecbec",
            "6da3c00b5cf14123bc8352c95d387f08",
            "9a75a413b42243db8e29808eefb13446",
            "71919e7c5b984fe58dbec2d04ac76442",
            "788bef6162634970a5f9612e7e9586f9",
            "836220b1d2de4be69f6c2c80bf545b74",
            "e2863fc5015a4ead95c544f58e51c665",
            "3be799ff378c4ed58395abc941803215",
            "cc627920099349279860b97ed1f35503",
            "862b8c8408244f26b61e30f91e5757dd"
          ]
        },
        "id": "LQx1By19OZa1",
        "outputId": "056dfacf-bd55-487a-ae1f-1f682e6b80e9"
      },
      "execution_count": 25,
      "outputs": [
        {
          "output_type": "display_data",
          "data": {
            "text/plain": [
              "  0%|          | 0/5 [00:00<?, ?it/s]"
            ],
            "application/vnd.jupyter.widget-view+json": {
              "version_major": 2,
              "version_minor": 0,
              "model_id": "2004958aaa5445cca089a977df82d7a5"
            }
          },
          "metadata": {}
        },
        {
          "output_type": "stream",
          "name": "stdout",
          "text": [
            "Epoch: 1 | train_loss: 0.9982 | train_acc: 0.5104 | test_loss: 0.6914 | test_acc: 0.8881\n",
            "Epoch: 2 | train_loss: 0.7175 | train_acc: 0.8125 | test_loss: 0.5441 | test_acc: 0.8977\n",
            "Epoch: 3 | train_loss: 0.5893 | train_acc: 0.8417 | test_loss: 0.4737 | test_acc: 0.8943\n",
            "Epoch: 4 | train_loss: 0.4488 | train_acc: 0.9292 | test_loss: 0.4410 | test_acc: 0.9131\n",
            "Epoch: 5 | train_loss: 0.4299 | train_acc: 0.8583 | test_loss: 0.3802 | test_acc: 0.9193\n"
          ]
        }
      ]
    },
    {
      "cell_type": "code",
      "source": [],
      "metadata": {
        "id": "cs3tzKlBO1Kq"
      },
      "execution_count": null,
      "outputs": []
    }
  ]
}