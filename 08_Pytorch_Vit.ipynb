{
  "nbformat": 4,
  "nbformat_minor": 0,
  "metadata": {
    "colab": {
      "provenance": [],
      "gpuType": "T4"
    },
    "kernelspec": {
      "name": "python3",
      "display_name": "Python 3"
    },
    "language_info": {
      "name": "python"
    },
    "accelerator": "GPU",
    "widgets": {
      "application/vnd.jupyter.widget-state+json": {
        "1e22faac3c8c44659be7bf618fe1fb3a": {
          "model_module": "@jupyter-widgets/controls",
          "model_name": "HBoxModel",
          "model_module_version": "1.5.0",
          "state": {
            "_dom_classes": [],
            "_model_module": "@jupyter-widgets/controls",
            "_model_module_version": "1.5.0",
            "_model_name": "HBoxModel",
            "_view_count": null,
            "_view_module": "@jupyter-widgets/controls",
            "_view_module_version": "1.5.0",
            "_view_name": "HBoxView",
            "box_style": "",
            "children": [
              "IPY_MODEL_fcfc8f498671478fbde3b4e55dc64e3c",
              "IPY_MODEL_b75fa0d904e1407c9c3c88a4f7449ed1",
              "IPY_MODEL_89b9935bbd6d41f28c3f0e27b5beacc3"
            ],
            "layout": "IPY_MODEL_69fd62bdf512476e99d2a0f88993e4db"
          }
        },
        "fcfc8f498671478fbde3b4e55dc64e3c": {
          "model_module": "@jupyter-widgets/controls",
          "model_name": "HTMLModel",
          "model_module_version": "1.5.0",
          "state": {
            "_dom_classes": [],
            "_model_module": "@jupyter-widgets/controls",
            "_model_module_version": "1.5.0",
            "_model_name": "HTMLModel",
            "_view_count": null,
            "_view_module": "@jupyter-widgets/controls",
            "_view_module_version": "1.5.0",
            "_view_name": "HTMLView",
            "description": "",
            "description_tooltip": null,
            "layout": "IPY_MODEL_0d705889c7ff4d2faf1aa6000aecb3cf",
            "placeholder": "​",
            "style": "IPY_MODEL_c4441eb28cd1407397551b59e7555562",
            "value": "100%"
          }
        },
        "b75fa0d904e1407c9c3c88a4f7449ed1": {
          "model_module": "@jupyter-widgets/controls",
          "model_name": "FloatProgressModel",
          "model_module_version": "1.5.0",
          "state": {
            "_dom_classes": [],
            "_model_module": "@jupyter-widgets/controls",
            "_model_module_version": "1.5.0",
            "_model_name": "FloatProgressModel",
            "_view_count": null,
            "_view_module": "@jupyter-widgets/controls",
            "_view_module_version": "1.5.0",
            "_view_name": "ProgressView",
            "bar_style": "success",
            "description": "",
            "description_tooltip": null,
            "layout": "IPY_MODEL_8b5690d4f35c411fae9c7d96513278bb",
            "max": 5,
            "min": 0,
            "orientation": "horizontal",
            "style": "IPY_MODEL_6dada13bc2eb4dad8bc0a3f8026e97fd",
            "value": 5
          }
        },
        "89b9935bbd6d41f28c3f0e27b5beacc3": {
          "model_module": "@jupyter-widgets/controls",
          "model_name": "HTMLModel",
          "model_module_version": "1.5.0",
          "state": {
            "_dom_classes": [],
            "_model_module": "@jupyter-widgets/controls",
            "_model_module_version": "1.5.0",
            "_model_name": "HTMLModel",
            "_view_count": null,
            "_view_module": "@jupyter-widgets/controls",
            "_view_module_version": "1.5.0",
            "_view_name": "HTMLView",
            "description": "",
            "description_tooltip": null,
            "layout": "IPY_MODEL_dc3597be45cb4e63910d80f5e75ef0cc",
            "placeholder": "​",
            "style": "IPY_MODEL_92fcc26d05c446ada9ade86088d9fa0d",
            "value": " 5/5 [01:35&lt;00:00, 18.86s/it]"
          }
        },
        "69fd62bdf512476e99d2a0f88993e4db": {
          "model_module": "@jupyter-widgets/base",
          "model_name": "LayoutModel",
          "model_module_version": "1.2.0",
          "state": {
            "_model_module": "@jupyter-widgets/base",
            "_model_module_version": "1.2.0",
            "_model_name": "LayoutModel",
            "_view_count": null,
            "_view_module": "@jupyter-widgets/base",
            "_view_module_version": "1.2.0",
            "_view_name": "LayoutView",
            "align_content": null,
            "align_items": null,
            "align_self": null,
            "border": null,
            "bottom": null,
            "display": null,
            "flex": null,
            "flex_flow": null,
            "grid_area": null,
            "grid_auto_columns": null,
            "grid_auto_flow": null,
            "grid_auto_rows": null,
            "grid_column": null,
            "grid_gap": null,
            "grid_row": null,
            "grid_template_areas": null,
            "grid_template_columns": null,
            "grid_template_rows": null,
            "height": null,
            "justify_content": null,
            "justify_items": null,
            "left": null,
            "margin": null,
            "max_height": null,
            "max_width": null,
            "min_height": null,
            "min_width": null,
            "object_fit": null,
            "object_position": null,
            "order": null,
            "overflow": null,
            "overflow_x": null,
            "overflow_y": null,
            "padding": null,
            "right": null,
            "top": null,
            "visibility": null,
            "width": null
          }
        },
        "0d705889c7ff4d2faf1aa6000aecb3cf": {
          "model_module": "@jupyter-widgets/base",
          "model_name": "LayoutModel",
          "model_module_version": "1.2.0",
          "state": {
            "_model_module": "@jupyter-widgets/base",
            "_model_module_version": "1.2.0",
            "_model_name": "LayoutModel",
            "_view_count": null,
            "_view_module": "@jupyter-widgets/base",
            "_view_module_version": "1.2.0",
            "_view_name": "LayoutView",
            "align_content": null,
            "align_items": null,
            "align_self": null,
            "border": null,
            "bottom": null,
            "display": null,
            "flex": null,
            "flex_flow": null,
            "grid_area": null,
            "grid_auto_columns": null,
            "grid_auto_flow": null,
            "grid_auto_rows": null,
            "grid_column": null,
            "grid_gap": null,
            "grid_row": null,
            "grid_template_areas": null,
            "grid_template_columns": null,
            "grid_template_rows": null,
            "height": null,
            "justify_content": null,
            "justify_items": null,
            "left": null,
            "margin": null,
            "max_height": null,
            "max_width": null,
            "min_height": null,
            "min_width": null,
            "object_fit": null,
            "object_position": null,
            "order": null,
            "overflow": null,
            "overflow_x": null,
            "overflow_y": null,
            "padding": null,
            "right": null,
            "top": null,
            "visibility": null,
            "width": null
          }
        },
        "c4441eb28cd1407397551b59e7555562": {
          "model_module": "@jupyter-widgets/controls",
          "model_name": "DescriptionStyleModel",
          "model_module_version": "1.5.0",
          "state": {
            "_model_module": "@jupyter-widgets/controls",
            "_model_module_version": "1.5.0",
            "_model_name": "DescriptionStyleModel",
            "_view_count": null,
            "_view_module": "@jupyter-widgets/base",
            "_view_module_version": "1.2.0",
            "_view_name": "StyleView",
            "description_width": ""
          }
        },
        "8b5690d4f35c411fae9c7d96513278bb": {
          "model_module": "@jupyter-widgets/base",
          "model_name": "LayoutModel",
          "model_module_version": "1.2.0",
          "state": {
            "_model_module": "@jupyter-widgets/base",
            "_model_module_version": "1.2.0",
            "_model_name": "LayoutModel",
            "_view_count": null,
            "_view_module": "@jupyter-widgets/base",
            "_view_module_version": "1.2.0",
            "_view_name": "LayoutView",
            "align_content": null,
            "align_items": null,
            "align_self": null,
            "border": null,
            "bottom": null,
            "display": null,
            "flex": null,
            "flex_flow": null,
            "grid_area": null,
            "grid_auto_columns": null,
            "grid_auto_flow": null,
            "grid_auto_rows": null,
            "grid_column": null,
            "grid_gap": null,
            "grid_row": null,
            "grid_template_areas": null,
            "grid_template_columns": null,
            "grid_template_rows": null,
            "height": null,
            "justify_content": null,
            "justify_items": null,
            "left": null,
            "margin": null,
            "max_height": null,
            "max_width": null,
            "min_height": null,
            "min_width": null,
            "object_fit": null,
            "object_position": null,
            "order": null,
            "overflow": null,
            "overflow_x": null,
            "overflow_y": null,
            "padding": null,
            "right": null,
            "top": null,
            "visibility": null,
            "width": null
          }
        },
        "6dada13bc2eb4dad8bc0a3f8026e97fd": {
          "model_module": "@jupyter-widgets/controls",
          "model_name": "ProgressStyleModel",
          "model_module_version": "1.5.0",
          "state": {
            "_model_module": "@jupyter-widgets/controls",
            "_model_module_version": "1.5.0",
            "_model_name": "ProgressStyleModel",
            "_view_count": null,
            "_view_module": "@jupyter-widgets/base",
            "_view_module_version": "1.2.0",
            "_view_name": "StyleView",
            "bar_color": null,
            "description_width": ""
          }
        },
        "dc3597be45cb4e63910d80f5e75ef0cc": {
          "model_module": "@jupyter-widgets/base",
          "model_name": "LayoutModel",
          "model_module_version": "1.2.0",
          "state": {
            "_model_module": "@jupyter-widgets/base",
            "_model_module_version": "1.2.0",
            "_model_name": "LayoutModel",
            "_view_count": null,
            "_view_module": "@jupyter-widgets/base",
            "_view_module_version": "1.2.0",
            "_view_name": "LayoutView",
            "align_content": null,
            "align_items": null,
            "align_self": null,
            "border": null,
            "bottom": null,
            "display": null,
            "flex": null,
            "flex_flow": null,
            "grid_area": null,
            "grid_auto_columns": null,
            "grid_auto_flow": null,
            "grid_auto_rows": null,
            "grid_column": null,
            "grid_gap": null,
            "grid_row": null,
            "grid_template_areas": null,
            "grid_template_columns": null,
            "grid_template_rows": null,
            "height": null,
            "justify_content": null,
            "justify_items": null,
            "left": null,
            "margin": null,
            "max_height": null,
            "max_width": null,
            "min_height": null,
            "min_width": null,
            "object_fit": null,
            "object_position": null,
            "order": null,
            "overflow": null,
            "overflow_x": null,
            "overflow_y": null,
            "padding": null,
            "right": null,
            "top": null,
            "visibility": null,
            "width": null
          }
        },
        "92fcc26d05c446ada9ade86088d9fa0d": {
          "model_module": "@jupyter-widgets/controls",
          "model_name": "DescriptionStyleModel",
          "model_module_version": "1.5.0",
          "state": {
            "_model_module": "@jupyter-widgets/controls",
            "_model_module_version": "1.5.0",
            "_model_name": "DescriptionStyleModel",
            "_view_count": null,
            "_view_module": "@jupyter-widgets/base",
            "_view_module_version": "1.2.0",
            "_view_name": "StyleView",
            "description_width": ""
          }
        }
      }
    }
  },
  "cells": [
    {
      "cell_type": "code",
      "execution_count": 1,
      "metadata": {
        "colab": {
          "base_uri": "https://localhost:8080/"
        },
        "id": "GsVRmRYKdv7b",
        "outputId": "b4b4748d-4ff3-4b4f-a045-cd639bba6aae"
      },
      "outputs": [
        {
          "output_type": "stream",
          "name": "stdout",
          "text": [
            "Collecting torchinfo\n",
            "  Downloading torchinfo-1.8.0-py3-none-any.whl.metadata (21 kB)\n",
            "Downloading torchinfo-1.8.0-py3-none-any.whl (23 kB)\n",
            "Installing collected packages: torchinfo\n",
            "Successfully installed torchinfo-1.8.0\n",
            "Cloning into 'pytorch-deep-learning'...\n",
            "remote: Enumerating objects: 4393, done.\u001b[K\n",
            "remote: Total 4393 (delta 0), reused 0 (delta 0), pack-reused 4393 (from 1)\u001b[K\n",
            "Receiving objects: 100% (4393/4393), 764.14 MiB | 15.62 MiB/s, done.\n",
            "Resolving deltas: 100% (2656/2656), done.\n",
            "Updating files: 100% (248/248), done.\n"
          ]
        }
      ],
      "source": [
        "import torch\n",
        "import torchvision\n",
        "from torch import nn\n",
        "from torchvision import transforms\n",
        "import matplotlib.pyplot as plt\n",
        "!pip install torchinfo\n",
        "from torchinfo import summary\n",
        "!git clone 'https://github.com/mrdbourke/pytorch-deep-learning'\n",
        "!mv pytorch-deep-learning/going_modular .\n",
        "!mv pytorch-deep-learning/helper_functions.py .\n",
        "from going_modular.going_modular import data_setup,engine\n",
        "from helper_functions import download_data,plot_loss_curves"
      ]
    },
    {
      "cell_type": "code",
      "source": [
        "device = 'cuda' if torch.cuda.is_available() else 'cpu'\n",
        "device"
      ],
      "metadata": {
        "colab": {
          "base_uri": "https://localhost:8080/",
          "height": 35
        },
        "id": "PPkjHqX0eydZ",
        "outputId": "40d268a0-eeaa-40ec-d470-cd4ec8c33b10"
      },
      "execution_count": 2,
      "outputs": [
        {
          "output_type": "execute_result",
          "data": {
            "text/plain": [
              "'cuda'"
            ],
            "application/vnd.google.colaboratory.intrinsic+json": {
              "type": "string"
            }
          },
          "metadata": {},
          "execution_count": 2
        }
      ]
    },
    {
      "cell_type": "code",
      "source": [
        "from pathlib import Path\n",
        "data_path = Path('data/')"
      ],
      "metadata": {
        "id": "Duv_Oxwifc64"
      },
      "execution_count": 7,
      "outputs": []
    },
    {
      "cell_type": "code",
      "source": [
        "image_path = download_data(source='https://github.com/mrdbourke/pytorch-deep-learning/raw/main/data/pizza_steak_sushi_20_percent.zip',destination=image_path)"
      ],
      "metadata": {
        "colab": {
          "base_uri": "https://localhost:8080/"
        },
        "id": "cP7cHztLe4Q7",
        "outputId": "ab9d9b4c-5e6f-4c96-e640-ba8c2be9cf1d"
      },
      "execution_count": 8,
      "outputs": [
        {
          "output_type": "stream",
          "name": "stdout",
          "text": [
            "[INFO] Did not find data/data/pizza-steak-sushi directory, creating one...\n",
            "[INFO] Downloading pizza_steak_sushi_20_percent.zip from https://github.com/mrdbourke/pytorch-deep-learning/raw/main/data/pizza_steak_sushi_20_percent.zip...\n",
            "[INFO] Unzipping pizza_steak_sushi_20_percent.zip data...\n"
          ]
        }
      ]
    },
    {
      "cell_type": "code",
      "source": [
        "image_path"
      ],
      "metadata": {
        "colab": {
          "base_uri": "https://localhost:8080/"
        },
        "id": "whM38BHpgK7-",
        "outputId": "a33f7c54-bf9b-45a7-ee1d-d4f0393e44c8"
      },
      "execution_count": 9,
      "outputs": [
        {
          "output_type": "execute_result",
          "data": {
            "text/plain": [
              "PosixPath('data/data/pizza-steak-sushi')"
            ]
          },
          "metadata": {},
          "execution_count": 9
        }
      ]
    },
    {
      "cell_type": "code",
      "source": [
        "train_dir = image_path / 'train'\n",
        "test_dir = image_path / 'test'"
      ],
      "metadata": {
        "id": "Rb9CNC3dgOQH"
      },
      "execution_count": 10,
      "outputs": []
    },
    {
      "cell_type": "code",
      "source": [
        "IMG_SIZE=224\n",
        "BATCH_SIZE=32\n",
        "manual_tranforms = transforms.Compose([transforms.Resize((IMG_SIZE,IMG_SIZE)),transforms.ToTensor()])\n",
        "\n",
        "train_dataloader,test_dataloader,class_names = data_setup.create_dataloaders(train_dir=train_dir,test_dir=test_dir,transform=manual_tranforms,batch_size=BATCH_SIZE)"
      ],
      "metadata": {
        "id": "YdgXh1TCgUA2"
      },
      "execution_count": 12,
      "outputs": []
    },
    {
      "cell_type": "code",
      "source": [
        "class MSABlock(nn.Module):\n",
        "  def __init__(self,embedding_dim=768,num_heads=12,attn_dropout=0):\n",
        "    super().__init__()\n",
        "\n",
        "    self.layer_norm = nn.LayerNorm(normalized_shape=embedding_dim)\n",
        "    self.msa = nn.MultiheadAttention(embed_dim=embedding_dim,num_heads=num_heads,dropout=attn_dropout,batch_first=True)\n",
        "\n",
        "  def forward(self,x):\n",
        "    x = self.layer_norm(x)\n",
        "    x,_ = self.msa(key=x,query=x,value=x,need_weights=False)\n",
        "    return x"
      ],
      "metadata": {
        "id": "pMnCqBp6hF2w"
      },
      "execution_count": 13,
      "outputs": []
    },
    {
      "cell_type": "code",
      "source": [
        "class PatchEmbedding(nn.Module):\n",
        "  def __init__(self,in_channels,patch_size,embedding_dim):\n",
        "    super().__init__()\n",
        "    self.patcher = nn.Conv2d(in_channels=in_channels,out_channels=embedding_dim,kernel_size=patch_size,stride=patch_size)\n",
        "    self.flatten = nn.Flatten(start_dim=2,end_dim=3)\n",
        "\n",
        "  def forward(self,x):\n",
        "    x= self.patcher(x)\n",
        "    x = self.flatten(x)\n",
        "    return x.permute(0,2,1)"
      ],
      "metadata": {
        "id": "5tC0rRLyiBYP"
      },
      "execution_count": 23,
      "outputs": []
    },
    {
      "cell_type": "code",
      "source": [
        "class MLPBlock(nn.Module):\n",
        "  def __init__(self,embedding_dim,mlp_dim,dropout):\n",
        "    super().__init__()\n",
        "    self.mlp = nn.Sequential(\n",
        "        nn.Linear(in_features=embedding_dim,out_features=mlp_dim),\n",
        "        nn.GELU(),\n",
        "        nn.Dropout(p=dropout),\n",
        "        nn.Linear(in_features=mlp_dim,out_features=embedding_dim),\n",
        "        nn.Dropout(p=dropout)\n",
        "    )\n",
        "\n",
        "    self.layer_norm = nn.LayerNorm(normalized_shape=embedding_dim)\n",
        "  def forward(self,x):\n",
        "    x = self.layer_norm(x)\n",
        "    x = self.mlp(x)\n",
        "    return x"
      ],
      "metadata": {
        "id": "hjYWeP23jQo1"
      },
      "execution_count": 17,
      "outputs": []
    },
    {
      "cell_type": "code",
      "source": [
        "class TransformerEncoder(nn.Module):\n",
        "  def __init__(self,embedding_dim,mlp_dim,attn_dropout,dropout,num_heads):\n",
        "    super().__init__()\n",
        "    self.msa = MSABlock(embedding_dim=embedding_dim,num_heads=num_heads,attn_dropout=attn_dropout)\n",
        "    self.mlp = MLPBlock(embedding_dim=embedding_dim,mlp_dim=mlp_dim,dropout=dropout)\n",
        "\n",
        "  def forward(self,x):\n",
        "    x = self.msa(x) + x\n",
        "    x = self.mlp(x) + x\n",
        "    return x"
      ],
      "metadata": {
        "id": "X-Jv5PDikrRr"
      },
      "execution_count": 18,
      "outputs": []
    },
    {
      "cell_type": "code",
      "source": [
        "num_classes = len(class_names)"
      ],
      "metadata": {
        "id": "tSwtCdFLmsUa"
      },
      "execution_count": 20,
      "outputs": []
    },
    {
      "cell_type": "code",
      "source": [
        "class Vit(nn.Module):\n",
        "  def __init__(self,in_channels,patch_size,embedding_dim,mlp_dim,attn_dropout,dropout,num_heads,num_layers):\n",
        "    super().__init__()\n",
        "    self.embedding = PatchEmbedding(in_channels,patch_size,embedding_dim)\n",
        "    self.transformer = nn.Sequential(*[TransformerEncoder(embedding_dim,mlp_dim,attn_dropout,dropout,num_heads) for _ in range(num_layers)])\n",
        "    self.classifier = nn.Sequential(nn.LayerNorm(normalized_shape=embedding_dim),nn.Linear(embedding_dim,num_classes))\n",
        "    self.num_patches = (IMG_SIZE//patch_size) ** 2 # Correct calculation of num_patches\n",
        "    self.class_token = nn.Parameter(torch.rand(1,1,embedding_dim),requires_grad=True)\n",
        "    self.pos_embedding = nn.Parameter(torch.rand(1,self.num_patches+1,embedding_dim),requires_grad=True)\n",
        "    self.dropout = nn.Dropout(p=dropout)\n",
        "\n",
        "  def forward(self,x):\n",
        "    batch_size = x.shape[0]\n",
        "    class_token = self.class_token.expand(batch_size,-1,-1)\n",
        "    embeddings = self.embedding(x)\n",
        "    embeddings = torch.cat([class_token,embeddings],dim=1)\n",
        "    embeddings = embeddings + self.pos_embedding\n",
        "    embeddings = self.dropout(embeddings)\n",
        "    x = self.transformer(embeddings)\n",
        "    x = self.classifier(x[:,0,:])\n",
        "    return x"
      ],
      "metadata": {
        "id": "LQkxRVdblRua"
      },
      "execution_count": 37,
      "outputs": []
    },
    {
      "cell_type": "code",
      "source": [
        "model = Vit(in_channels=3,patch_size=16,embedding_dim=768,mlp_dim=3072,attn_dropout=0.1,dropout=0.1,num_heads=12,num_layers=12).to(device)"
      ],
      "metadata": {
        "id": "6p6GMFYFohGY"
      },
      "execution_count": 38,
      "outputs": []
    },
    {
      "cell_type": "code",
      "source": [
        "loss_fn = nn.CrossEntropyLoss()\n",
        "optimizer = torch.optim.Adam(params=model.parameters())\n",
        "\n",
        "results = engine.train(model=model,train_dataloader=train_dataloader,test_dataloader=test_dataloader,optimizer=optimizer,loss_fn=loss_fn,epochs=5,device=device)"
      ],
      "metadata": {
        "colab": {
          "base_uri": "https://localhost:8080/",
          "height": 136,
          "referenced_widgets": [
            "1e22faac3c8c44659be7bf618fe1fb3a",
            "fcfc8f498671478fbde3b4e55dc64e3c",
            "b75fa0d904e1407c9c3c88a4f7449ed1",
            "89b9935bbd6d41f28c3f0e27b5beacc3",
            "69fd62bdf512476e99d2a0f88993e4db",
            "0d705889c7ff4d2faf1aa6000aecb3cf",
            "c4441eb28cd1407397551b59e7555562",
            "8b5690d4f35c411fae9c7d96513278bb",
            "6dada13bc2eb4dad8bc0a3f8026e97fd",
            "dc3597be45cb4e63910d80f5e75ef0cc",
            "92fcc26d05c446ada9ade86088d9fa0d"
          ]
        },
        "id": "ymxW6VOTocEj",
        "outputId": "6d784293-55be-46e8-f77b-c8626df36fdc"
      },
      "execution_count": 39,
      "outputs": [
        {
          "output_type": "display_data",
          "data": {
            "text/plain": [
              "  0%|          | 0/5 [00:00<?, ?it/s]"
            ],
            "application/vnd.jupyter.widget-view+json": {
              "version_major": 2,
              "version_minor": 0,
              "model_id": "1e22faac3c8c44659be7bf618fe1fb3a"
            }
          },
          "metadata": {}
        },
        {
          "output_type": "stream",
          "name": "stdout",
          "text": [
            "Epoch: 1 | train_loss: 4.0131 | train_acc: 0.3021 | test_loss: 1.4017 | test_acc: 0.3500\n",
            "Epoch: 2 | train_loss: 1.3103 | train_acc: 0.3167 | test_loss: 1.1811 | test_acc: 0.3500\n",
            "Epoch: 3 | train_loss: 1.2114 | train_acc: 0.3271 | test_loss: 1.1555 | test_acc: 0.2875\n",
            "Epoch: 4 | train_loss: 1.1316 | train_acc: 0.3104 | test_loss: 1.1249 | test_acc: 0.3625\n",
            "Epoch: 5 | train_loss: 1.1149 | train_acc: 0.3063 | test_loss: 1.0939 | test_acc: 0.3500\n"
          ]
        }
      ]
    }
  ]
}